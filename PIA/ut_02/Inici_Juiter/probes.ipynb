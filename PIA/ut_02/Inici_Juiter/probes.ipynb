{
 "cells": [
  {
   "cell_type": "code",
   "execution_count": 3,
   "metadata": {},
   "outputs": [
    {
     "name": "stdout",
     "output_type": "stream",
     "text": [
      "L'area del rectangle és 49\n"
     ]
    }
   ],
   "source": [
    "# Programa que calcula el area de un rectangle\n",
    "# Autor: Joan Gerard Camarena\n",
    "# Data : 2019/07/11\n",
    "import time\n",
    "\n",
    "def areaRectangle(base,altura):\n",
    "    return base*altura\n",
    "\n",
    "base=int(input(\"Dis-me la base del rectangle: \"))\n",
    "altura=int(input(\"Dis-me l'altura del rectangle: \"))\n",
    "time.sleep(2)   # Espera dos segons\n",
    "\n",
    "area=areaRectangle(base,altura)\n",
    "\n",
    "print(\"L'area del rectangle és \" + str(area))"
   ]
  },
  {
   "cell_type": "code",
   "execution_count": 1,
   "metadata": {},
   "outputs": [],
   "source": [
    "num = int(input(\"num: \"))\n",
    "if (num>=10 and num<=20):{\n",
    "    print(\"par\") if num%2==0 else print(\"impar\")\n",
    "}\n",
    "    \n"
   ]
  }
 ],
 "metadata": {
  "kernelspec": {
   "display_name": "probes_01",
   "language": "python",
   "name": "python3"
  },
  "language_info": {
   "codemirror_mode": {
    "name": "ipython",
    "version": 3
   },
   "file_extension": ".py",
   "mimetype": "text/x-python",
   "name": "python",
   "nbconvert_exporter": "python",
   "pygments_lexer": "ipython3",
   "version": "3.12.3"
  }
 },
 "nbformat": 4,
 "nbformat_minor": 2
}
