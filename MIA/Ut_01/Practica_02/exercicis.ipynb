{
  "cells": [
    {
      "cell_type": "markdown",
      "metadata": {
        "id": "Pj5GMXM_1KQf"
      },
      "source": [
        "Un cas pràctic de cerca en amplada (BFS) podria ser la navegació en un lloc web. Suposem que tens un lloc web amb diverses pàgines i enllaços entre elles. Vols trobar la ruta més curta per navegar des de la pàgina d'inici fins a una pàgina específica.\n",
        "\n",
        "Primer, necessitem representar el nostre lloc web com un graf. En Python, podem usar un diccionari per això:\n"
      ]
    },
    {
      "cell_type": "code",
      "execution_count": null,
      "metadata": {
        "colab": {
          "base_uri": "https://localhost:8080/"
        },
        "id": "xnzr6GYo1KQg",
        "outputId": "ebede0fd-8ec2-4bdf-9d13-17dea8f287cd"
      },
      "outputs": [
        {
          "name": "stdout",
          "output_type": "stream",
          "text": [
            "Inici\n",
            "SobreNosaltres\n",
            "Productes\n",
            "Contacte\n"
          ]
        },
        {
          "data": {
            "text/plain": [
              "True"
            ]
          },
          "execution_count": 10,
          "metadata": {},
          "output_type": "execute_result"
        }
      ],
      "source": [
        "# Representació del lloc web com un graf\n",
        "lloc_web = {\n",
        "    \"Inici\": [\"SobreNosaltres\", \"Productes\", \"Contacte\"],\n",
        "    \"SobreNosaltres\": [\"Inici\", \"Equip\"],\n",
        "    \"Productes\": [\"Inici\", \"Producte1\", \"Producte2\"],\n",
        "    \"Contacte\": [\"Inici\"],\n",
        "    \"Equip\": [\"SobreNosaltres\"],\n",
        "    \"Producte1\": [\"Productes\"],\n",
        "    \"Producte2\": [\"Productes\"],\n",
        "}\n",
        "# busqueda_ampliada(lloc_web, \"Inici\")\n",
        "busqueda_ampliada2(lloc_web, \"Inici\", \"Equip\")"
      ]
    },
    {
      "cell_type": "markdown",
      "metadata": {
        "id": "KaEJlP4B1KQh"
      },
      "source": [
        "Cada clau representa una pàgina web i les llistes associades representen les pàgines a les quals es pot arribar directament des d'aquesta pàgina."
      ]
    },
    {
      "cell_type": "code",
      "execution_count": null,
      "metadata": {
        "id": "hID0ZTeh1KQh"
      },
      "outputs": [],
      "source": [
        "def busqueda_ampliada(grafo, inicial):\n",
        "    open = [inicial]\n",
        "    closed = []\n",
        "    objectiu = 0\n",
        "    while(len(open)>0):\n",
        "        actual = open.pop(0)\n",
        "        closed.append(actual)\n",
        "        #if actual == objectiu:\n",
        "            #return True\n",
        "        for fill in grafo[actual]:\n",
        "            if fill not in closed:\n",
        "                if fill not in open:\n",
        "                    open.append(fill)\n",
        "            #else:\n",
        "                #TODO: Hem de veure com actuar\n",
        "        print(actual)\n",
        "    return False"
      ]
    },
    {
      "cell_type": "code",
      "execution_count": null,
      "metadata": {
        "id": "LL3sbc5y7gCK"
      },
      "outputs": [],
      "source": [
        "def busqueda_ampliada2(grafo, inicial, objectiu):\n",
        "    open = [inicial]\n",
        "    closed = []\n",
        "    while(len(open)>0):\n",
        "        actual = open.pop(0)\n",
        "        closed.append(actual)\n",
        "        if actual == objectiu:\n",
        "            return True\n",
        "        for fill in grafo[actual]:\n",
        "            if fill not in closed:\n",
        "                if fill not in open:\n",
        "                    open.append(fill)\n",
        "            #else:\n",
        "                #TODO: Hem de veure com actuar\n",
        "        print(actual)\n",
        "    return False"
      ]
    },
    {
      "cell_type": "markdown",
      "metadata": {
        "id": "Q-271tmp1KQi"
      },
      "source": [
        "# Troba l'eixida del laberint\n",
        "\n",
        "\n",
        "La cerca en amplitud (Breadth-First Search, BFS) és un algorisme fonamental utilitzat en informàtica per explorar grafs o arbres de manera exhaustiva, garantint la troballa del camí més curt (en termes de nombre d'arestes) des del node inicial fins a un node objectiu en un graf no ponderat. Aquest algorisme és particularment útil per a problemes on és important explorar tots els nodes a cada nivell de profunditat abans de procedir al següent nivell.\n",
        "\n",
        "## Objectiu\n",
        "\n",
        "L'objectiu d'aquest exercici és implementar la cerca en amplitud i aplicar-la a diferents problemes per comprendre el seu funcionament i les seves aplicacions pràctiques.\n",
        "\n",
        "## Descripció de l'Exercici\n",
        "\n",
        "1. **Implementació de l'Algorisme BFS:**\n",
        "   - Implementa l'algorisme de cerca en amplitud en python.\n",
        "   - El teu algorisme ha de ser capaç de gestionar grafs representats amb llistes d'adjacència.\n",
        "\n",
        "2. **Aplicació a un Graf Simple:**\n",
        "   - Defineix un graf no ponderat simple utilitzant una llista d'adjacència.\n",
        "   - Utilitza l'algorisme BFS per trobar el camí més curt des d'un node de partida fins a tots els altres nodes del graf.\n",
        "   - Mostra el resultat en forma de llista de nodes visitats en ordre.\n",
        "\n",
        "3. **Aplicació a un Problema Real:**\n",
        "   - **Problema:** Resoldre un laberint.\n",
        "   - **Descripció:** Tens un laberint representat com una matriu de cel·les, on cada cel·la pot ser un camí (0) o una paret (1). L'entrada del laberint està situada a la cel·la superior esquerra (0,0) i la sortida està situada a la cel·la inferior dreta (n-1, m-1). Utilitza l'algorisme BFS per trobar el camí més curt des de l'entrada fins a la sortida, si existeix.\n",
        "   - **Entrada:** Una matriu de n x m on n és el nombre de files i m és el nombre de columnes. Cada element de la matriu pot ser 0 (camí) o 1 (paret).\n",
        "   - **Sortida:** Un camí des de l'entrada fins a la sortida representat com una seqüència de coordenades de cel·les, o un missatge indicant que no hi ha cap camí possible.\n",
        "   - **Exemple:** Considera la següent matriu com a laberint:\n",
        "\n",
        "     ```plaintext\n",
        "     0 1 0 0 0\n",
        "     0 1 0 1 0\n",
        "     0 0 0 1 0\n",
        "     1 1 0 1 0\n",
        "     0 0 0 0 0\n",
        "     ```\n",
        "\n",
        "     En aquest cas, el camí més curt des de l'entrada (0,0) fins a la sortida (4,4) podria ser: (0,0) -> (1,0) -> (2,0) -> (2,1) -> (2,2) -> (3,2) -> (4,2) -> (4,3) -> (4,4).\n",
        "\n",
        "4. **Anàlisi de Rendiment:**\n",
        "   - Discuteix els factors que influeixen en el rendiment de l'algorisme (per exemple, el nombre de nodes i arestes, la densitat del graf).\n",
        "\n",
        "## Criteris d'Avaluació\n",
        "\n",
        "1. **Correcció de la Implementació (40%):**\n",
        "   - El codi implementat ha de ser correcte i funcional, seguint l'algorisme BFS.\n",
        "   - La solució ha de trobar el camí més curt en un graf no ponderat de manera fiable.\n",
        "\n",
        "2. **Aplicació a Problemes Pràctics (30%):**\n",
        "   - Capacitat per modelitzar problemes reals com grafs i aplicar BFS per resoldre'ls.\n",
        "   - Claritat en la descripció del problema i de la solució.\n",
        "\n",
        "3. **Anàlisi de Rendiment (20%):**\n",
        "   - Discussió sobre els factors que afecten el rendiment de l'algorisme.\n",
        "\n",
        "## Nota Final\n",
        "\n",
        "Aquesta avaluació té com a objectiu ajudar-te a comprendre profundament l'algorisme de cerca en amplitud i la seva aplicabilitat a problemes pràctics. Assegura't de comentar el teu codi adequadament i de proporcionar explicacions clares i detallades per a cada part de l'exercici. Bona sort!\n"
      ]
    },
    {
      "cell_type": "code",
      "execution_count": 18,
      "metadata": {
        "id": "G_NRKaBB1KQi"
      },
      "outputs": [],
      "source": [
        "def comprobarPosicionoPared(x, y, matriz):\n",
        "    if x < 0 or y < 0 or x >= len(matriz) or y >= len(matriz[0]):\n",
        "        return False\n",
        "    if matriz[x][y] == 1:\n",
        "        return False\n",
        "    return True\n",
        "\n",
        "def fesmefills(posicio, matriu, cami):\n",
        "    x = posicio[0]\n",
        "    y = posicio[1]\n",
        "    solucio = []\n",
        "    \n",
        "    if comprobarPosicionoPared(x-1, y, matriu):\n",
        "        solucio.append({\"Posicio\": [x-1, y], \"Cami\": cami + f\"({x-1}, {y}), \"})\n",
        "    if comprobarPosicionoPared(x+1, y, matriu):\n",
        "        solucio.append({\"Posicio\": [x+1, y], \"Cami\": cami + f\"({x+1}, {y}), \"})\n",
        "    if comprobarPosicionoPared(x, y-1, matriu):\n",
        "        solucio.append({\"Posicio\": [x, y-1], \"Cami\": cami + f\"({x}, {y-1}), \"})\n",
        "    if comprobarPosicionoPared(x, y+1, matriu):\n",
        "        solucio.append({\"Posicio\": [x, y+1], \"Cami\": cami + f\"({x}, {y+1}), \"})\n",
        "    \n",
        "    return solucio\n",
        "\n",
        "def imprimir_laberinto(matriz):\n",
        "    print(\"   \", end=\"\")\n",
        "    for col in range(len(matriz[0])):\n",
        "        print(f\" {col}\", end=\"\")\n",
        "    print()\n",
        "    for idx, fila in enumerate(matriz):\n",
        "        print(f\"{idx} |\", end=\" \")\n",
        "        print(\" \".join(str(celda) for celda in fila))\n",
        "\n",
        "def busqueda_ampliada_laberinto(laberinto, inicial, objectiu):\n",
        "    open = [{\"Posicio\": inicial, \"Cami\": f\"({inicial[0]}, {inicial[1]}), \"}]\n",
        "    closed = []\n",
        "    while(len(open)>0):\n",
        "        actual = open.pop(0)\n",
        "        posicio_actual = actual[\"Posicio\"]\n",
        "        cami_actual = actual[\"Cami\"]\n",
        "        closed.append(actual)\n",
        "\n",
        "        if posicio_actual == objectiu:\n",
        "            print(f\"Solucio trobada: {cami_actual}\")\n",
        "            return True\n",
        "        \n",
        "        for fill in fesmefills(posicio_actual, laberinto, cami_actual):\n",
        "            if fill[\"Posicio\"] not in closed:\n",
        "                #if fill[\"Posicio\"] not in open:\n",
        "                #     open.append(fill)\n",
        "                if all(fill[\"Posicio\"] != item[\"Posicio\"] for item in open):\n",
        "                    open.append(fill)\n",
        "    \n",
        "    return False"
      ]
    },
    {
      "cell_type": "code",
      "execution_count": 20,
      "metadata": {
        "colab": {
          "base_uri": "https://localhost:8080/"
        },
        "id": "M4sykCA1_7XS",
        "outputId": "aa4c6a10-0b04-46d9-a508-2c2bc5548e65"
      },
      "outputs": [
        {
          "name": "stdout",
          "output_type": "stream",
          "text": [
            "    0 1 2 3 4\n",
            "0 | 0 1 0 0 0\n",
            "1 | 0 1 0 1 0\n",
            "2 | 0 0 0 1 0\n",
            "3 | 1 1 0 1 0\n",
            "4 | 0 0 0 0 0\n",
            "\n",
            "Solucio trobada: (0, 0), (1, 0), (2, 0), (2, 1), (2, 2), (3, 2), (4, 2), (4, 3), (4, 4), \n"
          ]
        },
        {
          "data": {
            "text/plain": [
              "True"
            ]
          },
          "execution_count": 20,
          "metadata": {},
          "output_type": "execute_result"
        }
      ],
      "source": [
        "laberinto = [\n",
        "    [0, 1, 0, 0, 0],\n",
        "    [0, 1, 0, 1, 0],\n",
        "    [0, 0, 0, 1, 0],\n",
        "    [1, 1, 0, 1, 0],\n",
        "    [0, 0, 0, 0, 0]\n",
        "]\n",
        "imprimir_laberinto(laberinto)\n",
        "print()\n",
        "busqueda_ampliada_laberinto(laberinto, [0,0], [4,4])"
      ]
    },
    {
      "cell_type": "code",
      "execution_count": 5,
      "metadata": {
        "id": "a6kBHAaAwO0f"
      },
      "outputs": [],
      "source": [
        "# Lo mateix pero en AEstrella\n",
        "\n",
        "def fesmefills_pes(posicio, desti, matriu):\n",
        "    x = posicio[0]\n",
        "    y = posicio[1]\n",
        "    solucio = {}\n",
        "    if comprobarPosicionoPared(x-1, y, matriu):\n",
        "        x = x - 1\n",
        "    if comprobarPosicionoPared(x+1, y, matriu):\n",
        "        x = x + 1\n",
        "    if comprobarPosicionoPared(x, y-1, matriu):\n",
        "        y = y - 1\n",
        "    if comprobarPosicionoPared(x, y+1, matriu):\n",
        "        y = y + 1\n",
        "\n",
        "    solucio[f\"{x}, {y}\"] = (desti[0]-(x))+(desti[1]-y)\n",
        "    return solucio\n",
        "\n",
        "def busqueda_aestrella_laberinto_aestrella(laberinto, inicial, objectiu):\n",
        "    open = [inicial]\n",
        "    closed = []\n",
        "    while(len(open)>0):\n",
        "        actual = open.pop(0)\n",
        "        closed.append(actual)\n",
        "        if actual == objectiu:\n",
        "            return True\n",
        "\n",
        "\n",
        "\n",
        "\n",
        "        for fill in fesmefills_pes(actual, objectiu, laberinto):\n",
        "            if fill not in closed:\n",
        "                if fill not in open:\n",
        "                    open.append(fill)\n",
        "\n",
        "        print(actual)\n",
        "    return False"
      ]
    },
    {
      "cell_type": "code",
      "execution_count": 6,
      "metadata": {
        "colab": {
          "base_uri": "https://localhost:8080/",
          "height": 483
        },
        "id": "WNNO5lvmzQfN",
        "outputId": "99090c47-2741-4af5-af15-e194a1403c3c"
      },
      "outputs": [
        {
          "name": "stdout",
          "output_type": "stream",
          "text": [
            "    0 1 2 3 4\n",
            "0 | 0 1 0 0 0\n",
            "1 | 0 1 0 1 0\n",
            "2 | 0 0 0 1 0\n",
            "3 | 1 1 0 1 0\n",
            "4 | 0 0 0 0 0\n",
            "\n",
            "[0, 0]\n"
          ]
        },
        {
          "ename": "TypeError",
          "evalue": "unsupported operand type(s) for -: 'str' and 'int'",
          "output_type": "error",
          "traceback": [
            "\u001b[0;31m---------------------------------------------------------------------------\u001b[0m",
            "\u001b[0;31mTypeError\u001b[0m                                 Traceback (most recent call last)",
            "\u001b[0;32m<ipython-input-6-c6b89edab118>\u001b[0m in \u001b[0;36m<cell line: 10>\u001b[0;34m()\u001b[0m\n\u001b[1;32m      8\u001b[0m \u001b[0mimprimir_laberinto\u001b[0m\u001b[0;34m(\u001b[0m\u001b[0mlaberinto\u001b[0m\u001b[0;34m)\u001b[0m\u001b[0;34m\u001b[0m\u001b[0;34m\u001b[0m\u001b[0m\n\u001b[1;32m      9\u001b[0m \u001b[0mprint\u001b[0m\u001b[0;34m(\u001b[0m\u001b[0;34m)\u001b[0m\u001b[0;34m\u001b[0m\u001b[0;34m\u001b[0m\u001b[0m\n\u001b[0;32m---> 10\u001b[0;31m \u001b[0mbusqueda_ampliada_laberinto_aestrella\u001b[0m\u001b[0;34m(\u001b[0m\u001b[0mlaberinto\u001b[0m\u001b[0;34m,\u001b[0m \u001b[0;34m[\u001b[0m\u001b[0;36m0\u001b[0m\u001b[0;34m,\u001b[0m\u001b[0;36m0\u001b[0m\u001b[0;34m]\u001b[0m\u001b[0;34m,\u001b[0m \u001b[0;34m[\u001b[0m\u001b[0;36m2\u001b[0m\u001b[0;34m,\u001b[0m\u001b[0;36m1\u001b[0m\u001b[0;34m]\u001b[0m\u001b[0;34m)\u001b[0m\u001b[0;34m\u001b[0m\u001b[0;34m\u001b[0m\u001b[0m\n\u001b[0m",
            "\u001b[0;32m<ipython-input-5-46c1f971dcc3>\u001b[0m in \u001b[0;36mbusqueda_ampliada_laberinto_aestrella\u001b[0;34m(laberinto, inicial, objectiu)\u001b[0m\n\u001b[1;32m     27\u001b[0m         \u001b[0;32mif\u001b[0m \u001b[0mactual\u001b[0m \u001b[0;34m==\u001b[0m \u001b[0mobjectiu\u001b[0m\u001b[0;34m:\u001b[0m\u001b[0;34m\u001b[0m\u001b[0;34m\u001b[0m\u001b[0m\n\u001b[1;32m     28\u001b[0m             \u001b[0;32mreturn\u001b[0m \u001b[0;32mTrue\u001b[0m\u001b[0;34m\u001b[0m\u001b[0;34m\u001b[0m\u001b[0m\n\u001b[0;32m---> 29\u001b[0;31m         \u001b[0;32mfor\u001b[0m \u001b[0mfill\u001b[0m \u001b[0;32min\u001b[0m \u001b[0mfesmefills_pes\u001b[0m\u001b[0;34m(\u001b[0m\u001b[0mactual\u001b[0m\u001b[0;34m,\u001b[0m \u001b[0mobjectiu\u001b[0m\u001b[0;34m,\u001b[0m \u001b[0mlaberinto\u001b[0m\u001b[0;34m)\u001b[0m\u001b[0;34m:\u001b[0m\u001b[0;34m\u001b[0m\u001b[0;34m\u001b[0m\u001b[0m\n\u001b[0m\u001b[1;32m     30\u001b[0m             \u001b[0;32mif\u001b[0m \u001b[0mfill\u001b[0m \u001b[0;32mnot\u001b[0m \u001b[0;32min\u001b[0m \u001b[0mclosed\u001b[0m\u001b[0;34m:\u001b[0m\u001b[0;34m\u001b[0m\u001b[0;34m\u001b[0m\u001b[0m\n\u001b[1;32m     31\u001b[0m                 \u001b[0;32mif\u001b[0m \u001b[0mfill\u001b[0m \u001b[0;32mnot\u001b[0m \u001b[0;32min\u001b[0m \u001b[0mopen\u001b[0m\u001b[0;34m:\u001b[0m\u001b[0;34m\u001b[0m\u001b[0;34m\u001b[0m\u001b[0m\n",
            "\u001b[0;32m<ipython-input-5-46c1f971dcc3>\u001b[0m in \u001b[0;36mfesmefills_pes\u001b[0;34m(posicio, desti, matriu)\u001b[0m\n\u001b[1;32m      7\u001b[0m         \u001b[0;34m\"Punt\"\u001b[0m\u001b[0;34m:\u001b[0m \u001b[0;34m\"Pes\"\u001b[0m\u001b[0;34m,\u001b[0m\u001b[0;34m\u001b[0m\u001b[0;34m\u001b[0m\u001b[0m\n\u001b[1;32m      8\u001b[0m     }\n\u001b[0;32m----> 9\u001b[0;31m     \u001b[0;32mif\u001b[0m \u001b[0mcomprobarPosicionoPared\u001b[0m\u001b[0;34m(\u001b[0m\u001b[0mx\u001b[0m\u001b[0;34m-\u001b[0m\u001b[0;36m1\u001b[0m\u001b[0;34m,\u001b[0m \u001b[0my\u001b[0m\u001b[0;34m,\u001b[0m \u001b[0mmatriu\u001b[0m\u001b[0;34m)\u001b[0m\u001b[0;34m:\u001b[0m\u001b[0;34m\u001b[0m\u001b[0;34m\u001b[0m\u001b[0m\n\u001b[0m\u001b[1;32m     10\u001b[0m         \u001b[0mx\u001b[0m \u001b[0;34m=\u001b[0m \u001b[0mx\u001b[0m \u001b[0;34m-\u001b[0m \u001b[0;36m1\u001b[0m\u001b[0;34m\u001b[0m\u001b[0;34m\u001b[0m\u001b[0m\n\u001b[1;32m     11\u001b[0m     \u001b[0;32mif\u001b[0m \u001b[0mcomprobarPosicionoPared\u001b[0m\u001b[0;34m(\u001b[0m\u001b[0mx\u001b[0m\u001b[0;34m+\u001b[0m\u001b[0;36m1\u001b[0m\u001b[0;34m,\u001b[0m \u001b[0my\u001b[0m\u001b[0;34m,\u001b[0m \u001b[0mmatriu\u001b[0m\u001b[0;34m)\u001b[0m\u001b[0;34m:\u001b[0m\u001b[0;34m\u001b[0m\u001b[0;34m\u001b[0m\u001b[0m\n",
            "\u001b[0;31mTypeError\u001b[0m: unsupported operand type(s) for -: 'str' and 'int'"
          ]
        }
      ],
      "source": [
        "laberinto = [\n",
        "    [0, 1, 0, 0, 0],\n",
        "    [0, 1, 0, 1, 0],\n",
        "    [0, 0, 0, 1, 0],\n",
        "    [1, 1, 0, 1, 0],\n",
        "    [0, 0, 0, 0, 0]\n",
        "]\n",
        "imprimir_laberinto(laberinto)\n",
        "print()\n",
        "busqueda_aestrella_laberinto_aestrella(laberinto, [0,0], [2,1])"
      ]
    },
    {
      "cell_type": "markdown",
      "metadata": {
        "id": "RtwYPmxI1KQi"
      },
      "source": [
        "## Objectiu\n",
        "\n",
        "L'objectiu d'aquest exercici és implementar la cerca en amplitud i aplicar-la a diferents problemes per comprendre el seu funcionament i les seves aplicacions pràctiques.\n",
        "\n",
        "## Descripció de l'Exercici\n",
        "\n",
        "1. **Implementació de l'Algorisme BFS:**\n",
        "   - Implementa l'algorisme de cerca en amplitud en el llenguatge de programació Python.\n",
        "   - El teu algorisme ha de ser capaç de gestionar grafs representats amb llistes d'adjacència.\n",
        "\n",
        "2. **Aplicació a un Graf Simple:**\n",
        "   - Defineix un graf no ponderat simple utilitzant una llista d'adjacència.\n",
        "   - Utilitza l'algorisme BFS per trobar el camí més curt des d'un node de partida fins a tots els altres nodes del graf.\n",
        "   - Mostra el resultat en forma de llista de nodes visitats en ordre.\n",
        "\n",
        "3. **Aplicació a un Problema Real:**\n",
        "   - **Problema:** Organització d'una Festa.\n",
        "   - **Descripció:** Suposem que estàs organitzant una festa i vols assegurar-te que tots els convidats es coneguin. Cada convidat té una llista de persones que coneix, i vols trobar la manera més eficient de presentar-los perquè tothom es conegui amb el mínim nombre de passos.\n",
        "   - **Entrada:** Un graf representat com una llista d'adjacència, on cada node representa un convidat i cada aresta representa una relació de coneixement entre dos convidats.\n",
        "   - **Sortida:** La seqüència de presentacions necessària perquè tots els convidats es coneguin, o un missatge indicant que no és possible connectar tots els convidats.\n",
        "   - **Exemple:** Considera el següent graf de relacions socials:\n",
        "\n",
        "     ```python\n",
        "     # Representació de la xarxa social com un graf\n",
        "     festa = {\n",
        "         \"Anna\": [\"Bruno\", \"Carla\"],\n",
        "         \"Bruno\": [\"Anna\", \"David\", \"Eva\"],\n",
        "         \"Carla\": [\"Anna\", \"Ferran\"],\n",
        "         \"David\": [\"Bruno\"],\n",
        "         \"Eva\": [\"Bruno\", \"Ferran\"],\n",
        "         \"Ferran\": [\"Carla\", \"Eva\"]\n",
        "     }\n",
        "     ```\n",
        "\n",
        "     En aquest cas, podries utilitzar BFS per determinar la seqüència de presentacions necessària perquè tots els convidats es coneguin.\n",
        "\n",
        "4. **Anàlisi de Rendiment:**\n",
        "   - Discuteix els factors que influeixen en el rendiment de l'algorisme (per exemple, el nombre de nodes i arestes, la densitat del graf).\n",
        "\n",
        "## Criteris d'Avaluació\n",
        "\n",
        "1. **Correcció de la Implementació (40%):**\n",
        "   - El codi implementat ha de ser correcte i funcional, seguint l'algorisme BFS.\n",
        "   - La solució ha de trobar la seqüència de presentacions de manera fiable.\n",
        "\n",
        "2. **Aplicació a Problemes Pràctics (30%):**\n",
        "   - Capacitat per modelitzar problemes reals com grafs i aplicar BFS per resoldre'ls.\n",
        "   - Claritat en la descripció del problema i de la solució.\n",
        "\n",
        "3. **Anàlisi de Rendiment (20%):**\n",
        "   - Discussió sobre els factors que afecten el rendiment de l'algorisme."
      ]
    },
    {
      "cell_type": "code",
      "execution_count": null,
      "metadata": {
        "id": "2_wVEvnq1KQj"
      },
      "outputs": [],
      "source": [
        "???"
      ]
    },
    {
      "cell_type": "markdown",
      "metadata": {
        "id": "nkkNM14Q1KQj"
      },
      "source": [
        "## Objectiu\n",
        "\n",
        "L'objectiu d'aquest exercici és implementar la cerca en profunditat i aplicar-la a diferents problemes per comprendre el seu funcionament i les seves aplicacions pràctiques.\n",
        "\n",
        "## Descripció de l'Exercici\n",
        "\n",
        "1. **Implementació de l'Algorisme DFS:**\n",
        "   - Implementa l'algorisme de cerca en profunditat en el llenguatge de programació Python.\n",
        "   - El teu algorisme ha de ser capaç de gestionar grafs representats amb llistes d'adjacència.\n",
        "\n",
        "2. **Aplicació a un Graf Simple:**\n",
        "   - Defineix un graf no ponderat simple utilitzant una llista d'adjacència.\n",
        "   - Utilitza l'algorisme DFS per explorar tots els nodes del graf començant des d'un node de partida.\n",
        "   - Mostra el resultat en forma de llista de nodes visitats en ordre.\n",
        "\n",
        "3. **Aplicació a un Problema Real:**\n",
        "   - **Problema:** Exploració d'un Sistema de Fitxers.\n",
        "   - **Descripció:** Suposem que tens un sistema de fitxers on cada directori pot contenir altres fitxers i subdirectoris. Vols explorar el sistema de fitxers per trobar tots els fitxers dins d'un directori inicial. Utilitza l'algorisme DFS per recórrer tots els fitxers i subdirectoris a partir del directori inicial.\n",
        "   - **Entrada:** Un graf representat com una llista d'adjacència, on cada node representa un directori o fitxer i cada aresta representa una connexió entre un directori i els seus continguts.\n",
        "   - **Sortida:** Una llista de fitxers visitats en l'ordre en què van ser explorats.\n",
        "   - **Exemple:** Considera el següent graf de sistema de fitxers:\n",
        "\n",
        "     ```python\n",
        "     # Representació del sistema de fitxers com un graf\n",
        "     sistema_de_fitxers = {\n",
        "         \"Arrel\": [\"Directori1\", \"Directori2\", \"Fitxer1.txt\"],\n",
        "         \"Directori1\": [\"Fitxer2.txt\", \"Fitxer3.txt\"],\n",
        "         \"Directori2\": [\"Directori3\", \"Fitxer4.txt\"],\n",
        "         \"Directori3\": [\"Fitxer5.txt\"],\n",
        "         \"Fitxer1.txt\": [],\n",
        "         \"Fitxer2.txt\": [],\n",
        "         \"Fitxer3.txt\": [],\n",
        "         \"Fitxer4.txt\": [],\n",
        "         \"Fitxer5.txt\": []\n",
        "     }\n",
        "     ```\n",
        "\n",
        "     En aquest cas, podries utilitzar DFS per determinar tots els fitxers dins del sistema de fitxers començant des del directori \"Arrel\".\n",
        "\n",
        "4. **Anàlisi de Rendiment:**\n",
        "   - Discuteix els factors que influeixen en el rendiment de l'algorisme (per exemple, el nombre de nodes i arestes, la profunditat del graf).\n",
        "\n",
        "## Criteris d'Avaluació\n",
        "\n",
        "1. **Correcció de la Implementació (40%):**\n",
        "   - El codi implementat ha de ser correcte i funcional, seguint l'algorisme DFS.\n",
        "   - La solució ha de trobar tots els fitxers dins del sistema de fitxers de manera fiable.\n",
        "\n",
        "2. **Aplicació a Problemes Pràctics (30%):**\n",
        "   - Capacitat per modelitzar problemes reals com grafs i aplicar DFS per resoldre'ls.\n",
        "   - Claritat en la descripció del problema i de la solució.\n",
        "\n",
        "3. **Anàlisi de Rendiment (20%):**\n",
        "   - Discussió sobre els factors que afecten el rendiment de l'algorisme.\n"
      ]
    },
    {
      "cell_type": "code",
      "execution_count": null,
      "metadata": {
        "id": "CgLI35xh1KQj"
      },
      "outputs": [],
      "source": [
        "???"
      ]
    },
    {
      "cell_type": "markdown",
      "metadata": {
        "id": "mXcc0rRn1KQj"
      },
      "source": [
        "L'objectiu d'aquest exercici és implementar la cerca en profunditat iterativa i aplicar-la a diferents problemes per comprendre el seu funcionament i les seves aplicacions pràctiques.\n",
        "\n",
        "## Descripció de l'Exercici\n",
        "\n",
        "1. **Implementació de l'Algorisme IDDFS:**\n",
        "   - Implementa l'algorisme de cerca en profunditat iterativa en el llenguatge de programació Python.\n",
        "   - El teu algorisme ha de ser capaç de gestionar grafs representats amb llistes d'adjacència.\n",
        "\n",
        "2. **Aplicació a un Graf Simple:**\n",
        "   - Defineix un graf no ponderat simple utilitzant una llista d'adjacència.\n",
        "   - Utilitza l'algorisme IDDFS per trobar un node objectiu des d'un node de partida.\n",
        "   - Mostra el resultat en forma de llista de nodes visitats en ordre fins a trobar el node objectiu.\n",
        "\n",
        "3. **Aplicació a un Problema Real:**\n",
        "   - **Problema:** Cerca d'una Paraula en un Diccionari.\n",
        "   - **Descripció:** Suposem que tens un diccionari de paraules representat com un arbre, on cada node representa una lletra i cada camí des de l'arrel fins a una fulla representa una paraula completa. Vols trobar una paraula específica en aquest arbre. Utilitza l'algorisme IDDFS per trobar la paraula buscada.\n",
        "   - **Entrada:** Un arbre representat com una llista d'adjacència, on cada node representa una lletra i els camins representen les paraules formades per aquestes lletres.\n",
        "   - **Sortida:** La paraula trobada representada com una seqüència de lletres, o un missatge indicant que la paraula no existeix en el diccionari.\n",
        "   - **Exemple:** Considera el següent arbre de diccionari:\n",
        "\n",
        "     ```python\n",
        "     # Representació del diccionari com un arbre\n",
        "     diccionari = {\n",
        "         \"\": [\"c\", \"b\", \"a\"],\n",
        "         \"c\": [\"a\", \"o\"],\n",
        "         \"b\": [\"a\"],\n",
        "         \"a\": [\"t\", \"r\"],\n",
        "         \"ca\": [\"t\", \"r\"],\n",
        "         \"co\": [\"w\"],\n",
        "         \"ba\": [\"t\"],\n",
        "         \"at\": [],\n",
        "         \"ar\": [],\n",
        "         \"cat\": [],\n",
        "         \"car\": [],\n",
        "         \"cow\": [],\n",
        "         \"bat\": []\n",
        "     }\n",
        "     ```\n",
        "\n",
        "     En aquest cas, podries utilitzar IDDFS per determinar si la paraula \"cat\" existeix en el diccionari.\n",
        "\n",
        "4. **Anàlisi de Rendiment:**\n",
        "   - Discuteix els factors que influeixen en el rendiment de l'algorisme (per exemple, la profunditat de l'arbre, el nombre de nodes i arestes).\n",
        "\n",
        "## Criteris d'Avaluació\n",
        "\n",
        "1. **Correcció de la Implementació (40%):**\n",
        "   - El codi implementat ha de ser correcte i funcional, seguint l'algorisme IDDFS.\n",
        "   - La solució ha de trobar la paraula buscada de manera fiable.\n",
        "\n",
        "2. **Aplicació a Problemes Pràctics (30%):**\n",
        "   - Capacitat per modelitzar problemes reals com grafs i aplicar IDDFS per resoldre'ls.\n",
        "   - Claritat en la descripció del problema i de la solució.\n",
        "\n",
        "3. **Anàlisi de Rendiment (20%):**\n",
        "   - Discussió sobre els factors que afecten el rendiment de l'algorisme.\n",
        "\n",
        "\n"
      ]
    },
    {
      "cell_type": "code",
      "execution_count": null,
      "metadata": {
        "id": "YliAaDIG1KQk"
      },
      "outputs": [],
      "source": [
        "???"
      ]
    },
    {
      "cell_type": "markdown",
      "metadata": {
        "id": "W2tyUT5M1KQk"
      },
      "source": [
        "# Enunciat per Evaluar la Cerca Heurística\n",
        "\n",
        "## Introducció\n",
        "\n",
        "La cerca heurística és una tècnica utilitzada en intel·ligència artificial per trobar solucions eficients a problemes complexos. Utilitza una funció heurística per estimar el cost de la solució des d'un estat donat, permetent una exploració més dirigida del graf de cerca. Un dels algorismes més coneguts que utilitzen aquesta tècnica és l'algorisme A* (A estrella).\n",
        "\n",
        "## Objectiu\n",
        "\n",
        "L'objectiu d'aquest exercici és implementar l'algorisme de cerca heurística A* i aplicar-lo a un problema real per comprendre el seu funcionament i les seves aplicacions pràctiques.\n",
        "\n",
        "## Descripció de l'Exercici\n",
        "\n",
        "1. **Implementació de l'Algorisme A*:**\n",
        "   - Implementa l'algorisme de cerca heurística A* en Python.\n",
        "   - El teu algorisme ha de ser capaç de gestionar grafs representats amb llistes d'adjacència i utilitzar una funció heurística per guiar la cerca.\n",
        "\n",
        "2. **Aplicació a un Graf Simple:**\n",
        "   - Defineix un graf ponderat simple utilitzant una llista d'adjacència.\n",
        "   - Defineix una funció heurística apropiada per al graf.\n",
        "   - Utilitza l'algorisme A* per trobar el camí més curt des d'un node de partida fins a un node objectiu.\n",
        "   - Mostra el resultat en forma de llista de nodes visitats en ordre fins a trobar el node objectiu.\n",
        "\n",
        "3. **Aplicació a un Problema Real:**\n",
        "   - **Problema:** Exploració d'un Territori Desconegut.\n",
        "   - **Descripció:** Suposem que ets un explorador que ha de trobar el camí més curt a través d'un territori desconegut representat per una matriu on cada cel·la té un cost diferent per travessar-la. L'entrada al territori està situada a la cel·la superior esquerra (0,0) i la sortida està situada a la cel·la inferior dreta (n-1, m-1). Utilitza l'algorisme A* per trobar el camí amb el cost total mínim des de l'entrada fins a la sortida.\n",
        "   - **Entrada:** Una matriu de n x m on n és el nombre de files i m és el nombre de columnes. Cada element de la matriu conté un nombre que representa el cost per travessar aquesta cel·la.\n",
        "   - **Sortida:** El camí amb el cost total mínim des de l'entrada fins a la sortida representat com una seqüència de coordenades de cel·les, o un missatge indicant que no hi ha cap camí possible.\n",
        "   - **Exemple:** Considera la següent matriu com a territori:\n",
        "\n",
        "     ```python\n",
        "     territori = [\n",
        "         [1, 3, 1, 5, 1],\n",
        "         [4, 1, 5, 1, 3],\n",
        "         [2, 2, 1, 2, 4],\n",
        "         [3, 3, 2, 1, 1],\n",
        "         [4, 1, 2, 3, 1]\n",
        "     ]\n",
        "     ```\n",
        "\n",
        "     En aquest cas, podries utilitzar l'algorisme A* per determinar el camí amb el cost mínim des de la posició (0,0) fins a la posició (4,4).\n",
        "\n",
        "4. **Anàlisi de Rendiment:**\n",
        "   - Discuteix els factors que influeixen en el rendiment de l'algorisme (per exemple, la qualitat de la funció heurística, el nombre de nodes i arestes, la distribució dels costos).\n",
        "\n",
        "## Criteris d'Avaluació\n",
        "\n",
        "1. **Correcció de la Implementació (40%):**\n",
        "   - El codi implementat ha de ser correcte i funcional, seguint l'algorisme A*.\n",
        "   - La solució ha de trobar el camí amb el cost mínim de manera fiable.\n",
        "\n",
        "2. **Aplicació a Problemes Pràctics (30%):**\n",
        "   - Capacitat per modelitzar problemes reals com grafs i aplicar A* per resoldre'ls.\n",
        "   - Claritat en la descripció del problema i de la solució.\n",
        "\n",
        "3. **Anàlisi de Rendiment (20%):**\n",
        "   - Discussió sobre els factors que afecten el rendiment de l'algorisme.\n"
      ]
    },
    {
      "cell_type": "code",
      "execution_count": null,
      "metadata": {
        "id": "dGcfthev1KQk"
      },
      "outputs": [],
      "source": [
        "???"
      ]
    }
  ],
  "metadata": {
    "colab": {
      "provenance": []
    },
    "kernelspec": {
      "display_name": "laberinto",
      "language": "python",
      "name": "python3"
    },
    "language_info": {
      "codemirror_mode": {
        "name": "ipython",
        "version": 3
      },
      "file_extension": ".py",
      "mimetype": "text/x-python",
      "name": "python",
      "nbconvert_exporter": "python",
      "pygments_lexer": "ipython3",
      "version": "3.12.3"
    }
  },
  "nbformat": 4,
  "nbformat_minor": 0
}
